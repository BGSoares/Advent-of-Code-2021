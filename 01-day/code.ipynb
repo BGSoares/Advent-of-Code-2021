{
 "cells": [
  {
   "cell_type": "markdown",
   "metadata": {},
   "source": [
    "# **ADVENT OF CODE // DAY 01**\n",
    "https://adventofcode.com/2021/day/1"
   ]
  },
  {
   "cell_type": "markdown",
   "metadata": {},
   "source": [
    "# **SOLUTIONS PT 01**"
   ]
  },
  {
   "cell_type": "code",
   "execution_count": 13,
   "metadata": {},
   "outputs": [],
   "source": [
    "depths = []\n",
    "f = open('input.txt', 'r')\n",
    "for line in f:\n",
    "    depths.append(int(line.strip()))"
   ]
  },
  {
   "cell_type": "code",
   "execution_count": 21,
   "metadata": {},
   "outputs": [],
   "source": [
    "n = len(depths)\n",
    "depth_delta = [float('nan') for i in range(n)]"
   ]
  },
  {
   "cell_type": "markdown",
   "metadata": {},
   "source": [
    "# **SOLUTIONS PT 01**"
   ]
  },
  {
   "cell_type": "code",
   "execution_count": 41,
   "metadata": {},
   "outputs": [],
   "source": [
    "counter = 0\n",
    "for i in range(1, n):\n",
    "    \n",
    "    previous_depth = depths[i-1]\n",
    "    current_depth = depths[i]\n",
    "\n",
    "    if current_depth > previous_depth:\n",
    "        depth_delta[i] = 'increased'\n",
    "        counter += 1\n",
    "    elif current_depth < previous_depth:\n",
    "        depth_delta[i] = 'decreased'\n",
    "    elif current_depth == previous_depth:\n",
    "        depth_delta[i] = 'no change'"
   ]
  },
  {
   "cell_type": "code",
   "execution_count": 42,
   "metadata": {},
   "outputs": [
    {
     "data": {
      "text/plain": [
       "1602"
      ]
     },
     "execution_count": 42,
     "metadata": {},
     "output_type": "execute_result"
    }
   ],
   "source": [
    "counter"
   ]
  },
  {
   "cell_type": "markdown",
   "metadata": {},
   "source": [
    "# **SOLUTIONS PT 02**"
   ]
  },
  {
   "cell_type": "code",
   "execution_count": 55,
   "metadata": {},
   "outputs": [],
   "source": [
    "def sliding_sum_deltas (values, window):\n",
    "    \n",
    "    \"\"\"\n",
    "    Get whether rolling sum of values increases or decreases with each step.\n",
    "    ---------------\n",
    "    Values: list of values to calculate change\n",
    "    Window: rolling sum window (e.g. sum of 3 consecutive numbers)\n",
    "    \"\"\"\n",
    "    \n",
    "    counter = 0\n",
    "    n = len(values)\n",
    "    deltas = [float('nan') for i in range(n)]\n",
    "    \n",
    "    for i in range(window,n):\n",
    "        \n",
    "        previous_depth = sum(values[i-window:i])\n",
    "        current_depth = sum(values[i-window+1:i+1])\n",
    "\n",
    "        if current_depth > previous_depth:\n",
    "            deltas[i] = 'increased'\n",
    "            counter += 1\n",
    "        elif current_depth < previous_depth:\n",
    "            deltas[i] = 'decreased'\n",
    "        elif current_depth == previous_depth:\n",
    "            deltas[i] = 'no change'\n",
    "\n",
    "    return deltas, counter"
   ]
  },
  {
   "cell_type": "code",
   "execution_count": 60,
   "metadata": {},
   "outputs": [],
   "source": [
    "deltas, counter = sliding_sum_deltas(depths, 3)"
   ]
  },
  {
   "cell_type": "code",
   "execution_count": 61,
   "metadata": {},
   "outputs": [
    {
     "data": {
      "text/plain": [
       "1633"
      ]
     },
     "execution_count": 61,
     "metadata": {},
     "output_type": "execute_result"
    }
   ],
   "source": [
    "counter"
   ]
  }
 ],
 "metadata": {
  "interpreter": {
   "hash": "e47b1a34c05c1e3b83a62d7885c9d1b5ef8a0522d3be0182d0a008ec409b2b3d"
  },
  "kernelspec": {
   "display_name": "Python 3.7.11 64-bit ('myenv': conda)",
   "language": "python",
   "name": "python3"
  },
  "language_info": {
   "codemirror_mode": {
    "name": "ipython",
    "version": 3
   },
   "file_extension": ".py",
   "mimetype": "text/x-python",
   "name": "python",
   "nbconvert_exporter": "python",
   "pygments_lexer": "ipython3",
   "version": "3.7.11"
  },
  "orig_nbformat": 4
 },
 "nbformat": 4,
 "nbformat_minor": 2
}
