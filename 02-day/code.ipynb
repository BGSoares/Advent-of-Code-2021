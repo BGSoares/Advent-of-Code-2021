{
 "cells": [
  {
   "cell_type": "markdown",
   "metadata": {},
   "source": [
    "# **ADVENT OF CODE // YEAR 2021 // DAY 02**\n",
    "https://adventofcode.com/2021/day/2"
   ]
  },
  {
   "cell_type": "markdown",
   "metadata": {},
   "source": [
    "# **IMPORT DATA**"
   ]
  },
  {
   "cell_type": "code",
   "execution_count": 24,
   "metadata": {},
   "outputs": [],
   "source": [
    "# read data\n",
    "with open(\"input.txt\", \"r\") as f:\n",
    "    route = f.read().split(\"\\n\")\n",
    "\n",
    "route = route[:-1] # removing last row which is empty"
   ]
  },
  {
   "cell_type": "code",
   "execution_count": 25,
   "metadata": {},
   "outputs": [],
   "source": [
    "# sanity check\n",
    "for step in route:\n",
    "    to, by = step.split(\" \")\n",
    "    assert to in [\"forward\", \"up\", \"down\"]\n",
    "    assert int(by) in [1, 2, 3, 4, 5, 6, 7, 8, 9]"
   ]
  },
  {
   "cell_type": "markdown",
   "metadata": {},
   "source": [
    "# **SOLUTIONS PT 1**"
   ]
  },
  {
   "cell_type": "code",
   "execution_count": 26,
   "metadata": {},
   "outputs": [],
   "source": [
    "# location coordinate, starting from 0 span and 0 depth\n",
    "loc1 = {\n",
    "    \"span\":0,\n",
    "    \"depth\":0\n",
    "}"
   ]
  },
  {
   "cell_type": "code",
   "execution_count": 27,
   "metadata": {},
   "outputs": [],
   "source": [
    "# functions to change either span or depth by a given value, depending on the direction\n",
    "def up(yloc, n):\n",
    "    return (yloc - n)\n",
    "\n",
    "def down(yloc, n):\n",
    "    return (yloc + n)\n",
    "\n",
    "def forward(xloc, n):\n",
    "    return (xloc + n)"
   ]
  },
  {
   "cell_type": "code",
   "execution_count": 28,
   "metadata": {},
   "outputs": [],
   "source": [
    "# link direction to location coordinate (span: forward, depth: up or down) and function\n",
    "brain = {\n",
    "    \"forward\":[\"span\", forward],\n",
    "    \"up\":[\"depth\", up],\n",
    "    \"down\":[\"depth\", down]\n",
    "}"
   ]
  },
  {
   "cell_type": "code",
   "execution_count": 29,
   "metadata": {},
   "outputs": [],
   "source": [
    "# test list \n",
    "route1 = [\"forward 5\",\n",
    "\"down 5\",\n",
    "\"forward 8\",\n",
    "\"up 3\",\n",
    "\"down 8\",\n",
    "\"forward 2\"]"
   ]
  },
  {
   "cell_type": "code",
   "execution_count": 30,
   "metadata": {},
   "outputs": [
    {
     "data": {
      "text/plain": [
       "{'span': 1971, 'depth': 830}"
      ]
     },
     "execution_count": 30,
     "metadata": {},
     "output_type": "execute_result"
    }
   ],
   "source": [
    "for step in route:\n",
    "    to, by = step.split(\" \")\n",
    "    var, func = brain[to]\n",
    "    loc1[var] = func(loc1[var], int(by))\n",
    "\n",
    "loc1"
   ]
  },
  {
   "cell_type": "code",
   "execution_count": 31,
   "metadata": {},
   "outputs": [
    {
     "data": {
      "text/plain": [
       "1635930"
      ]
     },
     "execution_count": 31,
     "metadata": {},
     "output_type": "execute_result"
    }
   ],
   "source": [
    "loc1[\"span\"] * loc1[\"depth\"]"
   ]
  },
  {
   "cell_type": "markdown",
   "metadata": {},
   "source": [
    "# **SOLUTIONS PT 2**"
   ]
  },
  {
   "cell_type": "code",
   "execution_count": 32,
   "metadata": {},
   "outputs": [],
   "source": [
    "# location coordinate, starting from 0 span and 0 depth\n",
    "loc2 = {\n",
    "    \"span\":0,\n",
    "    \"depth\":0,\n",
    "    \"aim\":0\n",
    "}"
   ]
  },
  {
   "cell_type": "code",
   "execution_count": 33,
   "metadata": {},
   "outputs": [],
   "source": [
    "route_test = [\"forward 5\",\n",
    "\"down 5\",\n",
    "\"forward 8\",\n",
    "\"up 3\",\n",
    "\"down 8\",\n",
    "\"forward 2\"]"
   ]
  },
  {
   "cell_type": "code",
   "execution_count": 34,
   "metadata": {},
   "outputs": [],
   "source": [
    "# functions to change either span or depth by a given value, depending on the direction\n",
    "def up(aim, delta):\n",
    "    return (aim - delta)\n",
    "\n",
    "def down(aim, delta):\n",
    "    return (aim + delta)\n",
    "\n",
    "def forward(xloc, n):\n",
    "    return (xloc + n)"
   ]
  },
  {
   "cell_type": "code",
   "execution_count": 35,
   "metadata": {},
   "outputs": [],
   "source": [
    "# link direction to location coordinate (span: forward, depth: up or down) and function\n",
    "brain = {\n",
    "    \"forward\":[[\"span\",\"depth\"], forward],\n",
    "    \"up\":[\"aim\", up],\n",
    "    \"down\":[\"aim\", down]\n",
    "}"
   ]
  },
  {
   "cell_type": "code",
   "execution_count": 36,
   "metadata": {},
   "outputs": [],
   "source": [
    "for step in route:\n",
    "    to, by = step.split(\" \")\n",
    "    var, func = brain[to]\n",
    "\n",
    "    if to in [\"up\", \"down\"]:\n",
    "        loc2[var] = func(loc2[var], int(by))\n",
    "    \n",
    "    elif to == \"forward\":\n",
    "        loc2[\"span\"] = func(loc2[\"span\"], int(by))\n",
    "        depth_delta = loc2[\"aim\"] * int(by)\n",
    "        loc2[\"depth\"] = loc2[\"depth\"] + depth_delta\n",
    "    \n",
    "    else:\n",
    "        raise Exception(\"The step is not one of: up, down, or forward\")"
   ]
  },
  {
   "cell_type": "code",
   "execution_count": 37,
   "metadata": {},
   "outputs": [
    {
     "data": {
      "text/plain": [
       "{'span': 1971, 'depth': 904018, 'aim': 830}"
      ]
     },
     "execution_count": 37,
     "metadata": {},
     "output_type": "execute_result"
    }
   ],
   "source": [
    "loc2"
   ]
  },
  {
   "cell_type": "code",
   "execution_count": 38,
   "metadata": {},
   "outputs": [
    {
     "data": {
      "text/plain": [
       "1781819478"
      ]
     },
     "execution_count": 38,
     "metadata": {},
     "output_type": "execute_result"
    }
   ],
   "source": [
    "loc2[\"span\"] * loc2[\"depth\"]"
   ]
  }
 ],
 "metadata": {
  "interpreter": {
   "hash": "e47b1a34c05c1e3b83a62d7885c9d1b5ef8a0522d3be0182d0a008ec409b2b3d"
  },
  "kernelspec": {
   "display_name": "Python 3.7.11 64-bit ('myenv': conda)",
   "language": "python",
   "name": "python3"
  },
  "language_info": {
   "codemirror_mode": {
    "name": "ipython",
    "version": 3
   },
   "file_extension": ".py",
   "mimetype": "text/x-python",
   "name": "python",
   "nbconvert_exporter": "python",
   "pygments_lexer": "ipython3",
   "version": "3.7.11"
  },
  "orig_nbformat": 4
 },
 "nbformat": 4,
 "nbformat_minor": 2
}
