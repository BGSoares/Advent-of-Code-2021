{
 "cells": [
  {
   "cell_type": "markdown",
   "metadata": {},
   "source": [
    "# **ADVENT OF CODE // DAY 03**"
   ]
  },
  {
   "cell_type": "markdown",
   "metadata": {},
   "source": [
    "# **SOLUTION PT 01**"
   ]
  },
  {
   "cell_type": "code",
   "execution_count": 285,
   "metadata": {},
   "outputs": [],
   "source": [
    "import numpy as np"
   ]
  },
  {
   "cell_type": "code",
   "execution_count": 286,
   "metadata": {},
   "outputs": [],
   "source": [
    "data = np.loadtxt(\"input.txt\", dtype=str)"
   ]
  },
  {
   "cell_type": "code",
   "execution_count": 287,
   "metadata": {},
   "outputs": [],
   "source": [
    "def split_digits(x:str) -> list:\n",
    "    return [ int(i) for i in x ]\n",
    "\n",
    "def make_array(data:np.array) -> np.array:\n",
    "    n_cols = len(data[0])\n",
    "    result = np.empty((0,n_cols))\n",
    "    for row in data:\n",
    "        row_result = split_digits(row)\n",
    "        result = np.vstack((result, row_result)).astype(int)\n",
    "    return result\n",
    "\n",
    "# -----------\n",
    "\n",
    "def summarize(data:np.array) -> int:\n",
    "    n_columns = data.shape[1]\n",
    "    gamma_rate = \"\"\n",
    "    eps_rate = \"\"\n",
    "\n",
    "    for i in range(n_columns):\n",
    "        column = data[:,i]\n",
    "        counts = np.bincount(column)\n",
    "        gamma_rate = gamma_rate + str(counts.argmax())\n",
    "        eps_rate = eps_rate + str(counts.argmin())\n",
    "        result = {\"gamma_rate\":gamma_rate, \"epsilon_rate\":eps_rate}\n",
    "    return result\n",
    "    \n",
    "\n",
    "def binary_to_integer(x):\n",
    "    return int(x, 2)\n",
    "\n",
    "def get_power_consumption(gamma_rate, eps_rate):\n",
    "    return binary_to_integer(gamma_rate) * binary_to_integer(eps_rate)"
   ]
  },
  {
   "cell_type": "code",
   "execution_count": 288,
   "metadata": {},
   "outputs": [],
   "source": [
    "array = make_array(data)"
   ]
  },
  {
   "cell_type": "code",
   "execution_count": 289,
   "metadata": {},
   "outputs": [],
   "source": [
    "result = summarize(array)"
   ]
  },
  {
   "cell_type": "code",
   "execution_count": 290,
   "metadata": {},
   "outputs": [],
   "source": [
    "gamma = result[\"gamma_rate\"]\n",
    "eps = result[\"epsilon_rate\"]"
   ]
  },
  {
   "cell_type": "code",
   "execution_count": 291,
   "metadata": {},
   "outputs": [
    {
     "data": {
      "text/plain": [
       "('100100101010', '011011010101')"
      ]
     },
     "execution_count": 291,
     "metadata": {},
     "output_type": "execute_result"
    }
   ],
   "source": [
    "gamma, eps"
   ]
  },
  {
   "cell_type": "code",
   "execution_count": 292,
   "metadata": {},
   "outputs": [
    {
     "data": {
      "text/plain": [
       "4103154"
      ]
     },
     "execution_count": 292,
     "metadata": {},
     "output_type": "execute_result"
    }
   ],
   "source": [
    "get_power_consumption(gamma, eps)"
   ]
  },
  {
   "cell_type": "markdown",
   "metadata": {},
   "source": [
    "# **SOLUTION PT 02**"
   ]
  },
  {
   "cell_type": "code",
   "execution_count": 293,
   "metadata": {},
   "outputs": [],
   "source": [
    "def get_level(arr:np.array, element:str) -> np.array:\n",
    "    \n",
    "    func = {\"oxigen\":np.argmax, \"co2\":np.argmin}\n",
    "    value = {\"oxigen\":1, \"co2\":0}\n",
    "\n",
    "    i=0\n",
    "    nrows = arr.shape[0]\n",
    "    while nrows > 1:\n",
    "\n",
    "        col = arr[:,i]\n",
    "        counts = np.bincount(col)\n",
    "        \n",
    "        if counts[0] != counts[1]:\n",
    "            bit = func[element](counts)\n",
    "            arr = arr[arr[:,i]==bit]\n",
    "        else:\n",
    "            arr = arr[arr[:,i]==value[element]]\n",
    "\n",
    "        nrows = arr.shape[0]\n",
    "        i += 1\n",
    "        \n",
    "    result = [\"\".join(item) for item in arr.astype(str)]\n",
    "    return result[0]\n",
    "\n",
    "def get_life_support_rating(oxigen, co2):\n",
    "    return int(oxigen, 2) * int(co2, 2)"
   ]
  },
  {
   "cell_type": "code",
   "execution_count": 294,
   "metadata": {},
   "outputs": [],
   "source": [
    "oxigen = get_level(array, \"oxigen\")\n",
    "co2 = get_level(array, \"co2\")"
   ]
  },
  {
   "cell_type": "code",
   "execution_count": 295,
   "metadata": {},
   "outputs": [
    {
     "data": {
      "text/plain": [
       "4245351"
      ]
     },
     "execution_count": 295,
     "metadata": {},
     "output_type": "execute_result"
    }
   ],
   "source": [
    "get_power_consumption(oxigen, co2)"
   ]
  },
  {
   "cell_type": "markdown",
   "metadata": {},
   "source": [
    "# **APPENDIX**"
   ]
  },
  {
   "cell_type": "code",
   "execution_count": 296,
   "metadata": {},
   "outputs": [],
   "source": [
    "data_test = np.array([\n",
    "    \"00100\",\n",
    "    \"11110\",\n",
    "    \"10110\",\n",
    "    \"10111\",\n",
    "    \"10101\",\n",
    "    \"01111\",\n",
    "    \"00111\",\n",
    "    \"11100\",\n",
    "    \"10000\",\n",
    "    \"11001\",\n",
    "    \"00010\",\n",
    "    \"01010\"\n",
    "])"
   ]
  },
  {
   "cell_type": "code",
   "execution_count": 297,
   "metadata": {},
   "outputs": [],
   "source": [
    "array_test = make_array(data_test)"
   ]
  },
  {
   "cell_type": "markdown",
   "metadata": {},
   "source": [
    "PT 01"
   ]
  },
  {
   "cell_type": "code",
   "execution_count": 298,
   "metadata": {},
   "outputs": [],
   "source": [
    "array_test = make_array(data_test)"
   ]
  },
  {
   "cell_type": "code",
   "execution_count": 299,
   "metadata": {},
   "outputs": [],
   "source": [
    "result_test = summarize(array_test)"
   ]
  },
  {
   "cell_type": "code",
   "execution_count": 300,
   "metadata": {},
   "outputs": [],
   "source": [
    "gamma_test = result_test[\"gamma_rate\"]\n",
    "eps_test = result_test[\"epsilon_rate\"]"
   ]
  },
  {
   "cell_type": "code",
   "execution_count": 301,
   "metadata": {},
   "outputs": [
    {
     "data": {
      "text/plain": [
       "198"
      ]
     },
     "execution_count": 301,
     "metadata": {},
     "output_type": "execute_result"
    }
   ],
   "source": [
    "get_power_consumption(gamma_test, eps_test)"
   ]
  },
  {
   "cell_type": "markdown",
   "metadata": {},
   "source": [
    "PT 02"
   ]
  },
  {
   "cell_type": "code",
   "execution_count": 302,
   "metadata": {},
   "outputs": [],
   "source": [
    "oxigen_test = get_level(array_test, \"oxigen\")\n",
    "co2_test = get_level(array_test, \"co2\")"
   ]
  },
  {
   "cell_type": "code",
   "execution_count": 303,
   "metadata": {},
   "outputs": [
    {
     "data": {
      "text/plain": [
       "230"
      ]
     },
     "execution_count": 303,
     "metadata": {},
     "output_type": "execute_result"
    }
   ],
   "source": [
    "get_life_support_rating(oxigen_test, co2_test)"
   ]
  }
 ],
 "metadata": {
  "interpreter": {
   "hash": "e47b1a34c05c1e3b83a62d7885c9d1b5ef8a0522d3be0182d0a008ec409b2b3d"
  },
  "kernelspec": {
   "display_name": "Python 3.7.11 64-bit ('myenv': conda)",
   "language": "python",
   "name": "python3"
  },
  "language_info": {
   "codemirror_mode": {
    "name": "ipython",
    "version": 3
   },
   "file_extension": ".py",
   "mimetype": "text/x-python",
   "name": "python",
   "nbconvert_exporter": "python",
   "pygments_lexer": "ipython3",
   "version": "3.7.11"
  },
  "orig_nbformat": 4
 },
 "nbformat": 4,
 "nbformat_minor": 2
}
